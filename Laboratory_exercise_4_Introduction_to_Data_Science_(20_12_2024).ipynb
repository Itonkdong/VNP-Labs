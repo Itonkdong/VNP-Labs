{
 "nbformat": 4,
 "nbformat_minor": 0,
 "metadata": {
  "colab": {
   "provenance": [],
   "gpuType": "T4"
  },
  "kernelspec": {
   "name": "python3",
   "display_name": "Python 3 (ipykernel)",
   "language": "python"
  },
  "language_info": {
   "name": "python"
  },
  "accelerator": "GPU"
 },
 "cells": [
  {
   "cell_type": "markdown",
   "source": [
    "# Requirements"
   ],
   "metadata": {
    "id": "rODb9vHvIEbp"
   }
  },
  {
   "metadata": {
    "ExecuteTime": {
     "end_time": "2024-12-20T09:12:38.025052Z",
     "start_time": "2024-12-20T09:12:38.009777Z"
    }
   },
   "cell_type": "code",
   "source": [
    "# Add as many imports as you need.\n",
    "from datasets import load_dataset\n",
    "\n",
    "# dataset = load_dataset(\"csv\", data_files=\"data/wine-reviews.csv\")\n",
    "# dataset"
   ],
   "outputs": [],
   "execution_count": 40
  },
  {
   "metadata": {
    "ExecuteTime": {
     "end_time": "2024-12-20T09:12:38.318331Z",
     "start_time": "2024-12-20T09:12:38.311459Z"
    }
   },
   "cell_type": "code",
   "source": [
    "from transformers import AutoTokenizer, DataCollatorWithPadding\n",
    "# \n",
    "# checkpoint = \"bert-base-uncased\"\n",
    "# tokenizer = AutoTokenizer.from_pretrained(checkpoint)\n",
    "# # tokenized_texts = tokenizer(dataset[\"train\"][\"text\"])"
   ],
   "outputs": [],
   "execution_count": 41
  },
  {
   "metadata": {
    "ExecuteTime": {
     "end_time": "2024-12-20T09:12:38.651325Z",
     "start_time": "2024-12-20T09:12:38.640230Z"
    }
   },
   "cell_type": "code",
   "source": [
    "# def tokenize(sample):\n",
    "#     return tokenizer(sample[\"text\"], truncation=True)"
   ],
   "outputs": [],
   "execution_count": 42
  },
  {
   "metadata": {
    "ExecuteTime": {
     "end_time": "2024-12-20T09:12:38.954047Z",
     "start_time": "2024-12-20T09:12:38.941215Z"
    }
   },
   "cell_type": "code",
   "source": [
    "from transformers import TrainingArguments\n",
    "\n",
    "# training_args = TrainingArguments(\n",
    "#     output_dir=\"trainer\",\n",
    "#     eval_strategy=\"epoch\",\n",
    "#     per_device_train_batch_size=8,  # batch size for training\n",
    "#     per_device_eval_batch_size=8,  # batch size for evaluation\n",
    "#     metric_for_best_model=\"f1\",\n",
    "# )"
   ],
   "outputs": [],
   "execution_count": 43
  },
  {
   "metadata": {
    "ExecuteTime": {
     "end_time": "2024-12-20T09:12:39.377859Z",
     "start_time": "2024-12-20T09:12:39.368018Z"
    }
   },
   "cell_type": "code",
   "source": "import torch",
   "outputs": [],
   "execution_count": 44
  },
  {
   "cell_type": "markdown",
   "source": [
    "# Laboratory Exercise - Run Mode (8 points)"
   ],
   "metadata": {
    "id": "KNMMoUiUIW3L"
   }
  },
  {
   "cell_type": "markdown",
   "source": [
    "## Introduction\n",
    "This laboratory assignment's primary objective is to fine-tune a pre-trained language model for binary classification on a dataset consisting of wine reviews. The dataset contains two attributes: **description** and **points**. The description is a brief text describing the wine and the points represent a quality metric ranging from 1 to 100. If some wine has at least 90 points it is considered **exceptional**. Your task involves predicting if some wine is **exceptional** based on its review."
   ],
   "metadata": {
    "id": "_rAh_91OIjeS"
   }
  },
  {
   "cell_type": "markdown",
   "source": [
    "## The Wine Reviews Dataset"
   ],
   "metadata": {
    "id": "zBYI-EypaWom"
   }
  },
  {
   "cell_type": "markdown",
   "source": [
    "Load the dataset using the `datasets` library."
   ],
   "metadata": {
    "id": "DCm1qm1mZwMr"
   }
  },
  {
   "cell_type": "code",
   "source": [
    "# Write your code here. Add as many boxes as you need.\n",
    "# Za da mozhi da zavrshi nekogash e ona split='train[:100]'\n",
    "dataset = load_dataset(\"csv\", data_files=\"data/wine-reviews.csv\", split=\"train[:100]\")\n",
    "dataset"
   ],
   "metadata": {
    "id": "KMOn4fgcZn8s",
    "ExecuteTime": {
     "end_time": "2024-12-20T09:12:42.776964Z",
     "start_time": "2024-12-20T09:12:41.907520Z"
    }
   },
   "outputs": [
    {
     "data": {
      "text/plain": [
       "Dataset({\n",
       "    features: ['description', 'points'],\n",
       "    num_rows: 100\n",
       "})"
      ]
     },
     "execution_count": 45,
     "metadata": {},
     "output_type": "execute_result"
    }
   ],
   "execution_count": 45
  },
  {
   "cell_type": "markdown",
   "source": [
    "## Target Extraction\n",
    "Extract the target **exceptional** for each wine review. If some wine has at least 90 points it is considered **exceptional**."
   ],
   "metadata": {
    "id": "hZceBEFuiGpI"
   }
  },
  {
   "metadata": {
    "ExecuteTime": {
     "end_time": "2024-12-20T09:12:44.396001Z",
     "start_time": "2024-12-20T09:12:44.386924Z"
    }
   },
   "cell_type": "code",
   "source": [
    "import pandas as pd\n",
    "from sklearn.model_selection import train_test_split\n",
    "from datasets import load_dataset\n",
    "from transformers import AutoTokenizer, AutoModelForSequenceClassification, TrainingArguments, Trainer"
   ],
   "outputs": [],
   "execution_count": 46
  },
  {
   "metadata": {
    "ExecuteTime": {
     "end_time": "2024-12-20T09:12:45.133709Z",
     "start_time": "2024-12-20T09:12:45.123402Z"
    }
   },
   "cell_type": "code",
   "source": "dataset",
   "outputs": [
    {
     "data": {
      "text/plain": [
       "Dataset({\n",
       "    features: ['description', 'points'],\n",
       "    num_rows: 100\n",
       "})"
      ]
     },
     "execution_count": 47,
     "metadata": {},
     "output_type": "execute_result"
    }
   ],
   "execution_count": 47
  },
  {
   "metadata": {
    "ExecuteTime": {
     "end_time": "2024-12-20T09:13:19.618202Z",
     "start_time": "2024-12-20T09:13:19.601527Z"
    }
   },
   "cell_type": "code",
   "source": "df = dataset.to_pandas()",
   "outputs": [],
   "execution_count": 49
  },
  {
   "metadata": {
    "ExecuteTime": {
     "end_time": "2024-12-20T09:13:20.587703Z",
     "start_time": "2024-12-20T09:13:20.576184Z"
    }
   },
   "cell_type": "code",
   "source": "df['exceptional'] = df['points'].apply(lambda x: 1 if x >= 90 else 0)",
   "outputs": [],
   "execution_count": 50
  },
  {
   "metadata": {
    "ExecuteTime": {
     "end_time": "2024-12-20T09:13:21.038562Z",
     "start_time": "2024-12-20T09:13:21.019874Z"
    }
   },
   "cell_type": "code",
   "source": "df",
   "outputs": [
    {
     "data": {
      "text/plain": [
       "                                          description  points  exceptional\n",
       "0   Translucent in color, silky in the mouth, this...      85            0\n",
       "1   On the palate, this wine is rich and complex, ...      92            1\n",
       "2   The producer blends 57% Chardonnay from the Ma...      92            1\n",
       "3   Pure Baga in all its glory, packed with dry an...      93            1\n",
       "4   Think of Subsídio as a contribution rather tha...      89            0\n",
       "..                                                ...     ...          ...\n",
       "95  Crisp and fresh, this is a light wine that is ...      88            0\n",
       "96  The black-cherry fruit on the nose of this win...      85            0\n",
       "97  Corte Lenguin's Amarone is less intense aromat...      87            0\n",
       "98  Opulent and very minerally, this is deeply fla...      92            1\n",
       "99  Combined with 20% Grenache, this full-bodied, ...      90            1\n",
       "\n",
       "[100 rows x 3 columns]"
      ],
      "text/html": [
       "<div>\n",
       "<style scoped>\n",
       "    .dataframe tbody tr th:only-of-type {\n",
       "        vertical-align: middle;\n",
       "    }\n",
       "\n",
       "    .dataframe tbody tr th {\n",
       "        vertical-align: top;\n",
       "    }\n",
       "\n",
       "    .dataframe thead th {\n",
       "        text-align: right;\n",
       "    }\n",
       "</style>\n",
       "<table border=\"1\" class=\"dataframe\">\n",
       "  <thead>\n",
       "    <tr style=\"text-align: right;\">\n",
       "      <th></th>\n",
       "      <th>description</th>\n",
       "      <th>points</th>\n",
       "      <th>exceptional</th>\n",
       "    </tr>\n",
       "  </thead>\n",
       "  <tbody>\n",
       "    <tr>\n",
       "      <th>0</th>\n",
       "      <td>Translucent in color, silky in the mouth, this...</td>\n",
       "      <td>85</td>\n",
       "      <td>0</td>\n",
       "    </tr>\n",
       "    <tr>\n",
       "      <th>1</th>\n",
       "      <td>On the palate, this wine is rich and complex, ...</td>\n",
       "      <td>92</td>\n",
       "      <td>1</td>\n",
       "    </tr>\n",
       "    <tr>\n",
       "      <th>2</th>\n",
       "      <td>The producer blends 57% Chardonnay from the Ma...</td>\n",
       "      <td>92</td>\n",
       "      <td>1</td>\n",
       "    </tr>\n",
       "    <tr>\n",
       "      <th>3</th>\n",
       "      <td>Pure Baga in all its glory, packed with dry an...</td>\n",
       "      <td>93</td>\n",
       "      <td>1</td>\n",
       "    </tr>\n",
       "    <tr>\n",
       "      <th>4</th>\n",
       "      <td>Think of Subsídio as a contribution rather tha...</td>\n",
       "      <td>89</td>\n",
       "      <td>0</td>\n",
       "    </tr>\n",
       "    <tr>\n",
       "      <th>...</th>\n",
       "      <td>...</td>\n",
       "      <td>...</td>\n",
       "      <td>...</td>\n",
       "    </tr>\n",
       "    <tr>\n",
       "      <th>95</th>\n",
       "      <td>Crisp and fresh, this is a light wine that is ...</td>\n",
       "      <td>88</td>\n",
       "      <td>0</td>\n",
       "    </tr>\n",
       "    <tr>\n",
       "      <th>96</th>\n",
       "      <td>The black-cherry fruit on the nose of this win...</td>\n",
       "      <td>85</td>\n",
       "      <td>0</td>\n",
       "    </tr>\n",
       "    <tr>\n",
       "      <th>97</th>\n",
       "      <td>Corte Lenguin's Amarone is less intense aromat...</td>\n",
       "      <td>87</td>\n",
       "      <td>0</td>\n",
       "    </tr>\n",
       "    <tr>\n",
       "      <th>98</th>\n",
       "      <td>Opulent and very minerally, this is deeply fla...</td>\n",
       "      <td>92</td>\n",
       "      <td>1</td>\n",
       "    </tr>\n",
       "    <tr>\n",
       "      <th>99</th>\n",
       "      <td>Combined with 20% Grenache, this full-bodied, ...</td>\n",
       "      <td>90</td>\n",
       "      <td>1</td>\n",
       "    </tr>\n",
       "  </tbody>\n",
       "</table>\n",
       "<p>100 rows × 3 columns</p>\n",
       "</div>"
      ]
     },
     "execution_count": 51,
     "metadata": {},
     "output_type": "execute_result"
    }
   ],
   "execution_count": 51
  },
  {
   "cell_type": "markdown",
   "source": [
    "## Dataset Splitting\n",
    "Partition the dataset into training and testing sets with an 80:20 ratio.\n"
   ],
   "metadata": {
    "id": "tls69_PrbJKW"
   }
  },
  {
   "metadata": {
    "ExecuteTime": {
     "end_time": "2024-12-20T09:13:23.110537Z",
     "start_time": "2024-12-20T09:13:23.102639Z"
    }
   },
   "cell_type": "code",
   "source": "X,Y = df['description'], df['exceptional']",
   "outputs": [],
   "execution_count": 52
  },
  {
   "metadata": {
    "ExecuteTime": {
     "end_time": "2024-12-20T09:13:23.490751Z",
     "start_time": "2024-12-20T09:13:23.475952Z"
    }
   },
   "cell_type": "code",
   "source": "X",
   "outputs": [
    {
     "data": {
      "text/plain": [
       "0     Translucent in color, silky in the mouth, this...\n",
       "1     On the palate, this wine is rich and complex, ...\n",
       "2     The producer blends 57% Chardonnay from the Ma...\n",
       "3     Pure Baga in all its glory, packed with dry an...\n",
       "4     Think of Subsídio as a contribution rather tha...\n",
       "                            ...                        \n",
       "95    Crisp and fresh, this is a light wine that is ...\n",
       "96    The black-cherry fruit on the nose of this win...\n",
       "97    Corte Lenguin's Amarone is less intense aromat...\n",
       "98    Opulent and very minerally, this is deeply fla...\n",
       "99    Combined with 20% Grenache, this full-bodied, ...\n",
       "Name: description, Length: 100, dtype: object"
      ]
     },
     "execution_count": 53,
     "metadata": {},
     "output_type": "execute_result"
    }
   ],
   "execution_count": 53
  },
  {
   "metadata": {
    "ExecuteTime": {
     "end_time": "2024-12-20T09:13:24.502411Z",
     "start_time": "2024-12-20T09:13:24.492782Z"
    }
   },
   "cell_type": "code",
   "source": "Y",
   "outputs": [
    {
     "data": {
      "text/plain": [
       "0     0\n",
       "1     1\n",
       "2     1\n",
       "3     1\n",
       "4     0\n",
       "     ..\n",
       "95    0\n",
       "96    0\n",
       "97    0\n",
       "98    1\n",
       "99    1\n",
       "Name: exceptional, Length: 100, dtype: int64"
      ]
     },
     "execution_count": 54,
     "metadata": {},
     "output_type": "execute_result"
    }
   ],
   "execution_count": 54
  },
  {
   "cell_type": "code",
   "source": [
    "# Write your code here. Add as many boxes as you need.\n",
    "X_train, X_test, y_train, y_test = train_test_split(df['description'], df['exceptional'], train_size=0.8, random_state=42)"
   ],
   "metadata": {
    "id": "PjGGGMxebeoB",
    "ExecuteTime": {
     "end_time": "2024-12-20T09:13:25.242002Z",
     "start_time": "2024-12-20T09:13:25.232884Z"
    }
   },
   "outputs": [],
   "execution_count": 55
  },
  {
   "metadata": {
    "ExecuteTime": {
     "end_time": "2024-12-20T09:13:28.705002Z",
     "start_time": "2024-12-20T09:13:28.689670Z"
    }
   },
   "cell_type": "code",
   "source": "train_df = pd.concat([X_train,y_train], axis=1)",
   "outputs": [],
   "execution_count": 56
  },
  {
   "metadata": {
    "ExecuteTime": {
     "end_time": "2024-12-20T09:13:29.355455Z",
     "start_time": "2024-12-20T09:13:29.349006Z"
    }
   },
   "cell_type": "code",
   "source": "train_df.columns = ['description', 'label']",
   "outputs": [],
   "execution_count": 57
  },
  {
   "metadata": {
    "ExecuteTime": {
     "end_time": "2024-12-20T09:13:29.941386Z",
     "start_time": "2024-12-20T09:13:29.927374Z"
    }
   },
   "cell_type": "code",
   "source": "train_df",
   "outputs": [
    {
     "data": {
      "text/plain": [
       "                                          description  label\n",
       "55  Oregon is loaded with inexpensive Pinot Noirs ...      1\n",
       "88  Notions of ripe lemon and mandarin zest play u...      1\n",
       "26  Expansive, round and supple in the mouth, this...      1\n",
       "42  Whiffs of crushed slate and smoke add earthy c...      1\n",
       "69  Part of the same family business as Philippe G...      1\n",
       "..                                                ...    ...\n",
       "60  Santo is a creamy Moscato d'Asti with ripe fru...      0\n",
       "71  A beautifully drinkable rosé sparkling wine fo...      0\n",
       "14  Still young and fruity, this wine is totally i...      1\n",
       "92  Compared to the winery's crisp and light 2014 ...      1\n",
       "51  This 100% varietal wine hails from a site east...      1\n",
       "\n",
       "[80 rows x 2 columns]"
      ],
      "text/html": [
       "<div>\n",
       "<style scoped>\n",
       "    .dataframe tbody tr th:only-of-type {\n",
       "        vertical-align: middle;\n",
       "    }\n",
       "\n",
       "    .dataframe tbody tr th {\n",
       "        vertical-align: top;\n",
       "    }\n",
       "\n",
       "    .dataframe thead th {\n",
       "        text-align: right;\n",
       "    }\n",
       "</style>\n",
       "<table border=\"1\" class=\"dataframe\">\n",
       "  <thead>\n",
       "    <tr style=\"text-align: right;\">\n",
       "      <th></th>\n",
       "      <th>description</th>\n",
       "      <th>label</th>\n",
       "    </tr>\n",
       "  </thead>\n",
       "  <tbody>\n",
       "    <tr>\n",
       "      <th>55</th>\n",
       "      <td>Oregon is loaded with inexpensive Pinot Noirs ...</td>\n",
       "      <td>1</td>\n",
       "    </tr>\n",
       "    <tr>\n",
       "      <th>88</th>\n",
       "      <td>Notions of ripe lemon and mandarin zest play u...</td>\n",
       "      <td>1</td>\n",
       "    </tr>\n",
       "    <tr>\n",
       "      <th>26</th>\n",
       "      <td>Expansive, round and supple in the mouth, this...</td>\n",
       "      <td>1</td>\n",
       "    </tr>\n",
       "    <tr>\n",
       "      <th>42</th>\n",
       "      <td>Whiffs of crushed slate and smoke add earthy c...</td>\n",
       "      <td>1</td>\n",
       "    </tr>\n",
       "    <tr>\n",
       "      <th>69</th>\n",
       "      <td>Part of the same family business as Philippe G...</td>\n",
       "      <td>1</td>\n",
       "    </tr>\n",
       "    <tr>\n",
       "      <th>...</th>\n",
       "      <td>...</td>\n",
       "      <td>...</td>\n",
       "    </tr>\n",
       "    <tr>\n",
       "      <th>60</th>\n",
       "      <td>Santo is a creamy Moscato d'Asti with ripe fru...</td>\n",
       "      <td>0</td>\n",
       "    </tr>\n",
       "    <tr>\n",
       "      <th>71</th>\n",
       "      <td>A beautifully drinkable rosé sparkling wine fo...</td>\n",
       "      <td>0</td>\n",
       "    </tr>\n",
       "    <tr>\n",
       "      <th>14</th>\n",
       "      <td>Still young and fruity, this wine is totally i...</td>\n",
       "      <td>1</td>\n",
       "    </tr>\n",
       "    <tr>\n",
       "      <th>92</th>\n",
       "      <td>Compared to the winery's crisp and light 2014 ...</td>\n",
       "      <td>1</td>\n",
       "    </tr>\n",
       "    <tr>\n",
       "      <th>51</th>\n",
       "      <td>This 100% varietal wine hails from a site east...</td>\n",
       "      <td>1</td>\n",
       "    </tr>\n",
       "  </tbody>\n",
       "</table>\n",
       "<p>80 rows × 2 columns</p>\n",
       "</div>"
      ]
     },
     "execution_count": 58,
     "metadata": {},
     "output_type": "execute_result"
    }
   ],
   "execution_count": 58
  },
  {
   "metadata": {
    "ExecuteTime": {
     "end_time": "2024-12-20T09:13:32.333505Z",
     "start_time": "2024-12-20T09:13:32.318823Z"
    }
   },
   "cell_type": "code",
   "source": "train_df.to_csv(\"./train.csv\")",
   "outputs": [],
   "execution_count": 59
  },
  {
   "metadata": {
    "ExecuteTime": {
     "end_time": "2024-12-20T09:13:33.297635Z",
     "start_time": "2024-12-20T09:13:33.285959Z"
    }
   },
   "cell_type": "code",
   "source": "test_df = pd.concat([X_test,y_test], axis=1)",
   "outputs": [],
   "execution_count": 60
  },
  {
   "metadata": {
    "ExecuteTime": {
     "end_time": "2024-12-20T09:13:35.537629Z",
     "start_time": "2024-12-20T09:13:35.527883Z"
    }
   },
   "cell_type": "code",
   "source": "test_df.columns = ['description', 'label']",
   "outputs": [],
   "execution_count": 61
  },
  {
   "metadata": {
    "ExecuteTime": {
     "end_time": "2024-12-20T09:13:35.904195Z",
     "start_time": "2024-12-20T09:13:35.892644Z"
    }
   },
   "cell_type": "code",
   "source": "test_df.to_csv(\"./test.csv\")",
   "outputs": [],
   "execution_count": 62
  },
  {
   "metadata": {
    "ExecuteTime": {
     "end_time": "2024-12-20T09:13:37.485271Z",
     "start_time": "2024-12-20T09:13:36.457734Z"
    }
   },
   "cell_type": "code",
   "source": "data = load_dataset('csv', data_files={'train': 'train.csv', 'test': 'test.csv'})",
   "outputs": [
    {
     "data": {
      "text/plain": [
       "Generating train split: 0 examples [00:00, ? examples/s]"
      ],
      "application/vnd.jupyter.widget-view+json": {
       "version_major": 2,
       "version_minor": 0,
       "model_id": "173cba6110f34959b0508d9e82321205"
      }
     },
     "metadata": {},
     "output_type": "display_data"
    },
    {
     "data": {
      "text/plain": [
       "Generating test split: 0 examples [00:00, ? examples/s]"
      ],
      "application/vnd.jupyter.widget-view+json": {
       "version_major": 2,
       "version_minor": 0,
       "model_id": "b764ab8a61704e9496bfc5a439f3e73f"
      }
     },
     "metadata": {},
     "output_type": "display_data"
    }
   ],
   "execution_count": 63
  },
  {
   "metadata": {
    "ExecuteTime": {
     "end_time": "2024-12-20T09:13:38.291344Z",
     "start_time": "2024-12-20T09:13:38.276744Z"
    }
   },
   "cell_type": "code",
   "source": "data",
   "outputs": [
    {
     "data": {
      "text/plain": [
       "DatasetDict({\n",
       "    train: Dataset({\n",
       "        features: ['Unnamed: 0', 'description', 'label'],\n",
       "        num_rows: 80\n",
       "    })\n",
       "    test: Dataset({\n",
       "        features: ['Unnamed: 0', 'description', 'label'],\n",
       "        num_rows: 20\n",
       "    })\n",
       "})"
      ]
     },
     "execution_count": 64,
     "metadata": {},
     "output_type": "execute_result"
    }
   ],
   "execution_count": 64
  },
  {
   "metadata": {
    "ExecuteTime": {
     "end_time": "2024-12-20T09:13:40.210441Z",
     "start_time": "2024-12-20T09:13:40.194290Z"
    }
   },
   "cell_type": "code",
   "source": "data = data.remove_columns(['Unnamed: 0'])",
   "outputs": [],
   "execution_count": 65
  },
  {
   "metadata": {
    "ExecuteTime": {
     "end_time": "2024-12-20T09:13:41.214751Z",
     "start_time": "2024-12-20T09:13:41.204071Z"
    }
   },
   "cell_type": "code",
   "source": "data",
   "outputs": [
    {
     "data": {
      "text/plain": [
       "DatasetDict({\n",
       "    train: Dataset({\n",
       "        features: ['description', 'label'],\n",
       "        num_rows: 80\n",
       "    })\n",
       "    test: Dataset({\n",
       "        features: ['description', 'label'],\n",
       "        num_rows: 20\n",
       "    })\n",
       "})"
      ]
     },
     "execution_count": 66,
     "metadata": {},
     "output_type": "execute_result"
    }
   ],
   "execution_count": 66
  },
  {
   "cell_type": "markdown",
   "source": [
    "## Tokenization\n",
    "Tokenize the texts using the `AutoTokenizer` class."
   ],
   "metadata": {
    "id": "NLnr8v_dWO1i"
   }
  },
  {
   "metadata": {
    "ExecuteTime": {
     "end_time": "2024-12-20T09:13:44.734804Z",
     "start_time": "2024-12-20T09:13:44.378837Z"
    }
   },
   "cell_type": "code",
   "source": "tokenizer = AutoTokenizer.from_pretrained('bert-base-uncased')",
   "outputs": [],
   "execution_count": 67
  },
  {
   "cell_type": "code",
   "source": [
    "def tokenize_function(examples):\n",
    "    return tokenizer(examples[\"description\"], padding=\"max_length\", truncation=True)"
   ],
   "metadata": {
    "id": "esakOh8iWYEN",
    "ExecuteTime": {
     "end_time": "2024-12-20T09:13:44.888241Z",
     "start_time": "2024-12-20T09:13:44.874256Z"
    }
   },
   "outputs": [],
   "execution_count": 68
  },
  {
   "metadata": {
    "ExecuteTime": {
     "end_time": "2024-12-20T09:13:45.591336Z",
     "start_time": "2024-12-20T09:13:45.449501Z"
    }
   },
   "cell_type": "code",
   "source": "tokenized_datasets = data.map(tokenize_function, batched=True)",
   "outputs": [
    {
     "data": {
      "text/plain": [
       "Map:   0%|          | 0/80 [00:00<?, ? examples/s]"
      ],
      "application/vnd.jupyter.widget-view+json": {
       "version_major": 2,
       "version_minor": 0,
       "model_id": "39aff65b70ea405998dcfc722f5ddf79"
      }
     },
     "metadata": {},
     "output_type": "display_data"
    },
    {
     "data": {
      "text/plain": [
       "Map:   0%|          | 0/20 [00:00<?, ? examples/s]"
      ],
      "application/vnd.jupyter.widget-view+json": {
       "version_major": 2,
       "version_minor": 0,
       "model_id": "ef9c693988fe445ebe5a217dc99ce292"
      }
     },
     "metadata": {},
     "output_type": "display_data"
    }
   ],
   "execution_count": 69
  },
  {
   "metadata": {
    "ExecuteTime": {
     "end_time": "2024-12-20T09:13:46.237642Z",
     "start_time": "2024-12-20T09:13:46.227329Z"
    }
   },
   "cell_type": "code",
   "source": "tokenized_datasets",
   "outputs": [
    {
     "data": {
      "text/plain": [
       "DatasetDict({\n",
       "    train: Dataset({\n",
       "        features: ['description', 'label', 'input_ids', 'token_type_ids', 'attention_mask'],\n",
       "        num_rows: 80\n",
       "    })\n",
       "    test: Dataset({\n",
       "        features: ['description', 'label', 'input_ids', 'token_type_ids', 'attention_mask'],\n",
       "        num_rows: 20\n",
       "    })\n",
       "})"
      ]
     },
     "execution_count": 70,
     "metadata": {},
     "output_type": "execute_result"
    }
   ],
   "execution_count": 70
  },
  {
   "cell_type": "markdown",
   "source": [
    "## Fine-tuning a Pre-trained Language Model for Classification\n",
    "Fine-tune a pre-trained language model for classification on the given dataset."
   ],
   "metadata": {
    "id": "VIkAR1Hibiwr"
   }
  },
  {
   "cell_type": "markdown",
   "source": [
    "Define the model using the `AutoModelForSequenceClassification` class."
   ],
   "metadata": {
    "id": "qWn1pafKbnxH"
   }
  },
  {
   "cell_type": "code",
   "source": [
    "# Write your code here. Add as many boxes as you need.\n",
    "model = AutoModelForSequenceClassification.from_pretrained(\"bert-base-uncased\", num_labels=2)"
   ],
   "metadata": {
    "id": "IXFIrQthbnkb",
    "ExecuteTime": {
     "end_time": "2024-12-20T09:13:49.189736Z",
     "start_time": "2024-12-20T09:13:48.719932Z"
    }
   },
   "outputs": [
    {
     "name": "stderr",
     "output_type": "stream",
     "text": [
      "Some weights of BertForSequenceClassification were not initialized from the model checkpoint at bert-base-uncased and are newly initialized: ['classifier.bias', 'classifier.weight']\n",
      "You should probably TRAIN this model on a down-stream task to be able to use it for predictions and inference.\n"
     ]
    }
   ],
   "execution_count": 71
  },
  {
   "cell_type": "markdown",
   "source": [
    "Define the traning parameters using the `TrainingArguments` class."
   ],
   "metadata": {
    "id": "IuQCSxZbYJOq"
   }
  },
  {
   "cell_type": "code",
   "source": [
    "# Write your code here. Add as many boxes as you need.\n",
    "training_args = TrainingArguments(\n",
    "    output_dir=\"test_trainer\",\n",
    "    evaluation_strategy=\"epoch\",\n",
    "    num_train_epochs=1,\n",
    "    per_device_train_batch_size=4,  # batch size for training\n",
    "    per_device_eval_batch_size=4,  # batch size for evaluation\n",
    ")"
   ],
   "metadata": {
    "id": "p3sVs-L1YJHu",
    "ExecuteTime": {
     "end_time": "2024-12-20T09:13:50.724650Z",
     "start_time": "2024-12-20T09:13:50.701922Z"
    }
   },
   "outputs": [
    {
     "name": "stderr",
     "output_type": "stream",
     "text": [
      "D:\\Fax\\LAIP\\.venv\\Lib\\site-packages\\transformers\\training_args.py:1575: FutureWarning: `evaluation_strategy` is deprecated and will be removed in version 4.46 of 🤗 Transformers. Use `eval_strategy` instead\n",
      "  warnings.warn(\n"
     ]
    }
   ],
   "execution_count": 72
  },
  {
   "cell_type": "markdown",
   "source": [
    "Define the training using the `Trainer` class."
   ],
   "metadata": {
    "id": "pVvRS4L1YKHp"
   }
  },
  {
   "cell_type": "code",
   "source": [
    "# Write your code here. Add as many boxes as you need.\n",
    "trainer = Trainer(\n",
    "    model,\n",
    "    training_args,\n",
    "    train_dataset=tokenized_datasets[\"train\"],\n",
    "    eval_dataset=tokenized_datasets[\"test\"],\n",
    ")"
   ],
   "metadata": {
    "id": "O7cyG3PhYJ_M",
    "ExecuteTime": {
     "end_time": "2024-12-20T09:13:53.500974Z",
     "start_time": "2024-12-20T09:13:53.382708Z"
    }
   },
   "outputs": [],
   "execution_count": 73
  },
  {
   "cell_type": "markdown",
   "source": [
    "Fine-tune (train) the pre-trained lanugage model."
   ],
   "metadata": {
    "id": "qFZr21HxYkko"
   }
  },
  {
   "cell_type": "code",
   "source": [
    "# Write your code here. Add as many boxes as you need.\n",
    "trainer.train()"
   ],
   "metadata": {
    "id": "U9Dz0P11Ykeh",
    "ExecuteTime": {
     "end_time": "2024-12-20T09:16:25.643891Z",
     "start_time": "2024-12-20T09:13:55.025725Z"
    }
   },
   "outputs": [
    {
     "data": {
      "text/plain": [
       "<IPython.core.display.HTML object>"
      ],
      "text/html": [
       "\n",
       "    <div>\n",
       "      \n",
       "      <progress value='20' max='20' style='width:300px; height:20px; vertical-align: middle;'></progress>\n",
       "      [20/20 02:23, Epoch 1/1]\n",
       "    </div>\n",
       "    <table border=\"1\" class=\"dataframe\">\n",
       "  <thead>\n",
       " <tr style=\"text-align: left;\">\n",
       "      <th>Epoch</th>\n",
       "      <th>Training Loss</th>\n",
       "      <th>Validation Loss</th>\n",
       "    </tr>\n",
       "  </thead>\n",
       "  <tbody>\n",
       "    <tr>\n",
       "      <td>1</td>\n",
       "      <td>No log</td>\n",
       "      <td>0.667418</td>\n",
       "    </tr>\n",
       "  </tbody>\n",
       "</table><p>"
      ]
     },
     "metadata": {},
     "output_type": "display_data"
    },
    {
     "data": {
      "text/plain": [
       "TrainOutput(global_step=20, training_loss=0.6900047302246094, metrics={'train_runtime': 150.1952, 'train_samples_per_second': 0.533, 'train_steps_per_second': 0.133, 'total_flos': 21048884428800.0, 'train_loss': 0.6900047302246094, 'epoch': 1.0})"
      ]
     },
     "execution_count": 74,
     "metadata": {},
     "output_type": "execute_result"
    }
   ],
   "execution_count": 74
  },
  {
   "cell_type": "markdown",
   "source": [
    "Use the trained model to make predictions for the test set."
   ],
   "metadata": {
    "id": "gyXZwAVab8Cp"
   }
  },
  {
   "cell_type": "code",
   "source": [
    "# Write your code here. Add as many boxes as you need.\n",
    "predictions = trainer.predict(tokenized_datasets[\"test\"])"
   ],
   "metadata": {
    "id": "EvMfVum6b_9b",
    "ExecuteTime": {
     "end_time": "2024-12-20T09:19:02.892970Z",
     "start_time": "2024-12-20T09:18:54.407756Z"
    }
   },
   "outputs": [
    {
     "data": {
      "text/plain": [
       "<IPython.core.display.HTML object>"
      ],
      "text/html": []
     },
     "metadata": {},
     "output_type": "display_data"
    }
   ],
   "execution_count": 76
  },
  {
   "metadata": {
    "ExecuteTime": {
     "end_time": "2024-12-20T09:19:19.215356Z",
     "start_time": "2024-12-20T09:19:19.201361Z"
    }
   },
   "cell_type": "code",
   "source": "predictions",
   "outputs": [
    {
     "data": {
      "text/plain": [
       "PredictionOutput(predictions=array([[ 0.12595968,  0.5988577 ],\n",
       "       [ 0.01026524,  0.63975453],\n",
       "       [-0.19139782,  0.58460575],\n",
       "       [ 0.10445956,  0.6573632 ],\n",
       "       [-0.20572378,  0.5153418 ],\n",
       "       [ 0.04380273,  0.66096765],\n",
       "       [-0.21887337,  0.61314213],\n",
       "       [-0.19529788,  0.61624825],\n",
       "       [ 0.13685618,  0.6262393 ],\n",
       "       [ 0.08850875,  0.59097964],\n",
       "       [ 0.10446934,  0.62720853],\n",
       "       [ 0.13587664,  0.614307  ],\n",
       "       [ 0.0492739 ,  0.6248216 ],\n",
       "       [-0.17184336,  0.5770661 ],\n",
       "       [ 0.14694275,  0.6433478 ],\n",
       "       [ 0.05357217,  0.59484905],\n",
       "       [-0.13954534,  0.61971146],\n",
       "       [ 0.04290082,  0.6728156 ],\n",
       "       [ 0.13390586,  0.64083445],\n",
       "       [ 0.02207456,  0.6363936 ]], dtype=float32), label_ids=array([0, 1, 1, 0, 0, 1, 1, 1, 1, 0, 1, 1, 1, 0, 0, 0, 1, 0, 1, 1]), metrics={'test_loss': 0.6674180626869202, 'test_runtime': 8.4659, 'test_samples_per_second': 2.362, 'test_steps_per_second': 0.591})"
      ]
     },
     "execution_count": 77,
     "metadata": {},
     "output_type": "execute_result"
    }
   ],
   "execution_count": 77
  },
  {
   "cell_type": "markdown",
   "source": [
    "Assess the performance of the model by using different metrics provided by the `scikit-learn` library."
   ],
   "metadata": {
    "id": "3VxAvDPtcNCh"
   }
  },
  {
   "metadata": {
    "ExecuteTime": {
     "end_time": "2024-12-20T09:22:35.906543Z",
     "start_time": "2024-12-20T09:22:35.893050Z"
    }
   },
   "cell_type": "code",
   "source": [
    "from VNP.packages.evaluation import classification_report\n",
    "import numpy as np\n",
    "from VNP.packages.vnp_ez import classification_report_ez"
   ],
   "outputs": [],
   "execution_count": 86
  },
  {
   "cell_type": "code",
   "source": [
    "# Write your code here. Add as many boxes as you need.\n",
    "logits, labels = predictions.predictions, predictions.label_ids\n",
    "preds = np.argmax(logits, axis=-1)"
   ],
   "metadata": {
    "id": "V4axpktycQhp",
    "ExecuteTime": {
     "end_time": "2024-12-20T09:20:09.330974Z",
     "start_time": "2024-12-20T09:20:09.317219Z"
    }
   },
   "outputs": [],
   "execution_count": 80
  },
  {
   "metadata": {
    "ExecuteTime": {
     "end_time": "2024-12-20T09:22:51.538195Z",
     "start_time": "2024-12-20T09:22:51.419148Z"
    }
   },
   "cell_type": "code",
   "source": "classification_report_ez(labels, preds,show_visualization=True)",
   "outputs": [
    {
     "name": "stdout",
     "output_type": "stream",
     "text": [
      "              precision    recall  f1-score   support\n",
      "\n",
      "           0       0.00      0.00      0.00         8\n",
      "           1       0.60      1.00      0.75        12\n",
      "\n",
      "    accuracy                           0.60        20\n",
      "   macro avg       0.30      0.50      0.38        20\n",
      "weighted avg       0.36      0.60      0.45        20\n",
      "\n"
     ]
    },
    {
     "name": "stderr",
     "output_type": "stream",
     "text": [
      "D:\\Fax\\LAIP\\.venv\\Lib\\site-packages\\sklearn\\metrics\\_classification.py:1531: UndefinedMetricWarning: Precision is ill-defined and being set to 0.0 in labels with no predicted samples. Use `zero_division` parameter to control this behavior.\n",
      "  _warn_prf(average, modifier, f\"{metric.capitalize()} is\", len(result))\n",
      "D:\\Fax\\LAIP\\.venv\\Lib\\site-packages\\sklearn\\metrics\\_classification.py:1531: UndefinedMetricWarning: Precision is ill-defined and being set to 0.0 in labels with no predicted samples. Use `zero_division` parameter to control this behavior.\n",
      "  _warn_prf(average, modifier, f\"{metric.capitalize()} is\", len(result))\n",
      "D:\\Fax\\LAIP\\.venv\\Lib\\site-packages\\sklearn\\metrics\\_classification.py:1531: UndefinedMetricWarning: Precision is ill-defined and being set to 0.0 in labels with no predicted samples. Use `zero_division` parameter to control this behavior.\n",
      "  _warn_prf(average, modifier, f\"{metric.capitalize()} is\", len(result))\n"
     ]
    },
    {
     "data": {
      "text/plain": [
       "<Figure size 640x480 with 1 Axes>"
      ],
      "image/png": "[encoded data removed]"
     },
     "metadata": {},
     "output_type": "display_data"
    }
   ],
   "execution_count": 88
  },
  {
   "cell_type": "markdown",
   "source": [
    "# Laboratory Exercise - Bonus Task (+ 2 points)"
   ],
   "metadata": {
    "id": "RwnD_qSpIeXG"
   }
  },
  {
   "cell_type": "markdown",
   "source": [
    "Implement a simple machine learning pipeline to classify wine reviews as **exceptional** or not. Use TF-IDF vectorization to convert text into numerical features and train a logistic regression. Split the dataset into training and testing sets, fit the pipeline on the training data, and evaluate its performance using metrics such as precision, recall, and F1-score. Analyze the texts to find the most influential words or phrases associated with the **exceptional** wines. Use the coefficients from the logistic regression trained on TF-IDF features to identify the top positive and negative keywords for **exceptional** wines. Present these keywords in a simple table or visualization (e.g., bar chart)."
   ],
   "metadata": {
    "id": "At5xnEDq3A2h"
   }
  },
  {
   "metadata": {
    "ExecuteTime": {
     "end_time": "2024-12-20T09:26:23.750341Z",
     "start_time": "2024-12-20T09:26:21.359019Z"
    }
   },
   "cell_type": "code",
   "source": [
    "import keras\n",
    "import pandas as pd\n",
    "\n",
    "from VNP.packages.data_alalysis import *\n",
    "from VNP.packages.data_preperation import *\n",
    "from VNP.packages.missing_values import *\n",
    "from VNP.packages.visualization import *\n",
    "from VNP.packages.models import *\n",
    "from VNP.packages.evaluation import *\n",
    "from VNP.packages.vnp_ez import *\n",
    "%load_ext autoreload\n",
    "%autoreload 2"
   ],
   "outputs": [],
   "execution_count": 90
  },
  {
   "metadata": {
    "ExecuteTime": {
     "end_time": "2024-12-20T09:25:18.188740Z",
     "start_time": "2024-12-20T09:25:18.171866Z"
    }
   },
   "cell_type": "code",
   "source": "X_train",
   "outputs": [
    {
     "data": {
      "text/plain": [
       "55    Oregon is loaded with inexpensive Pinot Noirs ...\n",
       "88    Notions of ripe lemon and mandarin zest play u...\n",
       "26    Expansive, round and supple in the mouth, this...\n",
       "42    Whiffs of crushed slate and smoke add earthy c...\n",
       "69    Part of the same family business as Philippe G...\n",
       "                            ...                        \n",
       "60    Santo is a creamy Moscato d'Asti with ripe fru...\n",
       "71    A beautifully drinkable rosé sparkling wine fo...\n",
       "14    Still young and fruity, this wine is totally i...\n",
       "92    Compared to the winery's crisp and light 2014 ...\n",
       "51    This 100% varietal wine hails from a site east...\n",
       "Name: description, Length: 80, dtype: object"
      ]
     },
     "execution_count": 89,
     "metadata": {},
     "output_type": "execute_result"
    }
   ],
   "execution_count": 89
  },
  {
   "metadata": {
    "ExecuteTime": {
     "end_time": "2024-12-20T09:28:32.154452Z",
     "start_time": "2024-12-20T09:28:31.997875Z"
    }
   },
   "cell_type": "code",
   "source": "type(X_train)",
   "outputs": [
    {
     "data": {
      "text/plain": [
       "pandas.core.series.Series"
      ]
     },
     "execution_count": 95,
     "metadata": {},
     "output_type": "execute_result"
    }
   ],
   "execution_count": 95
  },
  {
   "cell_type": "code",
   "source": [
    "# Write your code here. Add as many boxes as you need.\n",
    "vectorizer = TfidfVectorizer()\n",
    "regression = LogisticRegression()\n",
    "model = make_pipeline(vectorizer, regression)\n",
    "model.fit(X_train,y_train)"
   ],
   "metadata": {
    "id": "akxvW5SZ3DoV",
    "ExecuteTime": {
     "end_time": "2024-12-20T09:33:55.997923Z",
     "start_time": "2024-12-20T09:33:55.759057Z"
    }
   },
   "outputs": [
    {
     "data": {
      "text/plain": [
       "Pipeline(steps=[('tfidfvectorizer', TfidfVectorizer()),\n",
       "                ('logisticregression', LogisticRegression())])"
      ],
      "text/html": [
       "<style>#sk-container-id-2 {\n",
       "  /* Definition of color scheme common for light and dark mode */\n",
       "  --sklearn-color-text: black;\n",
       "  --sklearn-color-line: gray;\n",
       "  /* Definition of color scheme for unfitted estimators */\n",
       "  --sklearn-color-unfitted-level-0: #fff5e6;\n",
       "  --sklearn-color-unfitted-level-1: #f6e4d2;\n",
       "  --sklearn-color-unfitted-level-2: #ffe0b3;\n",
       "  --sklearn-color-unfitted-level-3: chocolate;\n",
       "  /* Definition of color scheme for fitted estimators */\n",
       "  --sklearn-color-fitted-level-0: #f0f8ff;\n",
       "  --sklearn-color-fitted-level-1: #d4ebff;\n",
       "  --sklearn-color-fitted-level-2: #b3dbfd;\n",
       "  --sklearn-color-fitted-level-3: cornflowerblue;\n",
       "\n",
       "  /* Specific color for light theme */\n",
       "  --sklearn-color-text-on-default-background: var(--sg-text-color, var(--theme-code-foreground, var(--jp-content-font-color1, black)));\n",
       "  --sklearn-color-background: var(--sg-background-color, var(--theme-background, var(--jp-layout-color0, white)));\n",
       "  --sklearn-color-border-box: var(--sg-text-color, var(--theme-code-foreground, var(--jp-content-font-color1, black)));\n",
       "  --sklearn-color-icon: #696969;\n",
       "\n",
       "  @media (prefers-color-scheme: dark) {\n",
       "    /* Redefinition of color scheme for dark theme */\n",
       "    --sklearn-color-text-on-default-background: var(--sg-text-color, var(--theme-code-foreground, var(--jp-content-font-color1, white)));\n",
       "    --sklearn-color-background: var(--sg-background-color, var(--theme-background, var(--jp-layout-color0, #111)));\n",
       "    --sklearn-color-border-box: var(--sg-text-color, var(--theme-code-foreground, var(--jp-content-font-color1, white)));\n",
       "    --sklearn-color-icon: #878787;\n",
       "  }\n",
       "}\n",
       "\n",
       "#sk-container-id-2 {\n",
       "  color: var(--sklearn-color-text);\n",
       "}\n",
       "\n",
       "#sk-container-id-2 pre {\n",
       "  padding: 0;\n",
       "}\n",
       "\n",
       "#sk-container-id-2 input.sk-hidden--visually {\n",
       "  border: 0;\n",
       "  clip: rect(1px 1px 1px 1px);\n",
       "  clip: rect(1px, 1px, 1px, 1px);\n",
       "  height: 1px;\n",
       "  margin: -1px;\n",
       "  overflow: hidden;\n",
       "  padding: 0;\n",
       "  position: absolute;\n",
       "  width: 1px;\n",
       "}\n",
       "\n",
       "#sk-container-id-2 div.sk-dashed-wrapped {\n",
       "  border: 1px dashed var(--sklearn-color-line);\n",
       "  margin: 0 0.4em 0.5em 0.4em;\n",
       "  box-sizing: border-box;\n",
       "  padding-bottom: 0.4em;\n",
       "  background-color: var(--sklearn-color-background);\n",
       "}\n",
       "\n",
       "#sk-container-id-2 div.sk-container {\n",
       "  /* jupyter's `normalize.less` sets `[hidden] { display: none; }`\n",
       "     but bootstrap.min.css set `[hidden] { display: none !important; }`\n",
       "     so we also need the `!important` here to be able to override the\n",
       "     default hidden behavior on the sphinx rendered scikit-learn.org.\n",
       "     See: https://github.com/scikit-learn/scikit-learn/issues/21755 */\n",
       "  display: inline-block !important;\n",
       "  position: relative;\n",
       "}\n",
       "\n",
       "#sk-container-id-2 div.sk-text-repr-fallback {\n",
       "  display: none;\n",
       "}\n",
       "\n",
       "div.sk-parallel-item,\n",
       "div.sk-serial,\n",
       "div.sk-item {\n",
       "  /* draw centered vertical line to link estimators */\n",
       "  background-image: linear-gradient(var(--sklearn-color-text-on-default-background), var(--sklearn-color-text-on-default-background));\n",
       "  background-size: 2px 100%;\n",
       "  background-repeat: no-repeat;\n",
       "  background-position: center center;\n",
       "}\n",
       "\n",
       "/* Parallel-specific style estimator block */\n",
       "\n",
       "#sk-container-id-2 div.sk-parallel-item::after {\n",
       "  content: \"\";\n",
       "  width: 100%;\n",
       "  border-bottom: 2px solid var(--sklearn-color-text-on-default-background);\n",
       "  flex-grow: 1;\n",
       "}\n",
       "\n",
       "#sk-container-id-2 div.sk-parallel {\n",
       "  display: flex;\n",
       "  align-items: stretch;\n",
       "  justify-content: center;\n",
       "  background-color: var(--sklearn-color-background);\n",
       "  position: relative;\n",
       "}\n",
       "\n",
       "#sk-container-id-2 div.sk-parallel-item {\n",
       "  display: flex;\n",
       "  flex-direction: column;\n",
       "}\n",
       "\n",
       "#sk-container-id-2 div.sk-parallel-item:first-child::after {\n",
       "  align-self: flex-end;\n",
       "  width: 50%;\n",
       "}\n",
       "\n",
       "#sk-container-id-2 div.sk-parallel-item:last-child::after {\n",
       "  align-self: flex-start;\n",
       "  width: 50%;\n",
       "}\n",
       "\n",
       "#sk-container-id-2 div.sk-parallel-item:only-child::after {\n",
       "  width: 0;\n",
       "}\n",
       "\n",
       "/* Serial-specific style estimator block */\n",
       "\n",
       "#sk-container-id-2 div.sk-serial {\n",
       "  display: flex;\n",
       "  flex-direction: column;\n",
       "  align-items: center;\n",
       "  background-color: var(--sklearn-color-background);\n",
       "  padding-right: 1em;\n",
       "  padding-left: 1em;\n",
       "}\n",
       "\n",
       "\n",
       "/* Toggleable style: style used for estimator/Pipeline/ColumnTransformer box that is\n",
       "clickable and can be expanded/collapsed.\n",
       "- Pipeline and ColumnTransformer use this feature and define the default style\n",
       "- Estimators will overwrite some part of the style using the `sk-estimator` class\n",
       "*/\n",
       "\n",
       "/* Pipeline and ColumnTransformer style (default) */\n",
       "\n",
       "#sk-container-id-2 div.sk-toggleable {\n",
       "  /* Default theme specific background. It is overwritten whether we have a\n",
       "  specific estimator or a Pipeline/ColumnTransformer */\n",
       "  background-color: var(--sklearn-color-background);\n",
       "}\n",
       "\n",
       "/* Toggleable label */\n",
       "#sk-container-id-2 label.sk-toggleable__label {\n",
       "  cursor: pointer;\n",
       "  display: block;\n",
       "  width: 100%;\n",
       "  margin-bottom: 0;\n",
       "  padding: 0.5em;\n",
       "  box-sizing: border-box;\n",
       "  text-align: center;\n",
       "}\n",
       "\n",
       "#sk-container-id-2 label.sk-toggleable__label-arrow:before {\n",
       "  /* Arrow on the left of the label */\n",
       "  content: \"▸\";\n",
       "  float: left;\n",
       "  margin-right: 0.25em;\n",
       "  color: var(--sklearn-color-icon);\n",
       "}\n",
       "\n",
       "#sk-container-id-2 label.sk-toggleable__label-arrow:hover:before {\n",
       "  color: var(--sklearn-color-text);\n",
       "}\n",
       "\n",
       "/* Toggleable content - dropdown */\n",
       "\n",
       "#sk-container-id-2 div.sk-toggleable__content {\n",
       "  max-height: 0;\n",
       "  max-width: 0;\n",
       "  overflow: hidden;\n",
       "  text-align: left;\n",
       "  /* unfitted */\n",
       "  background-color: var(--sklearn-color-unfitted-level-0);\n",
       "}\n",
       "\n",
       "#sk-container-id-2 div.sk-toggleable__content.fitted {\n",
       "  /* fitted */\n",
       "  background-color: var(--sklearn-color-fitted-level-0);\n",
       "}\n",
       "\n",
       "#sk-container-id-2 div.sk-toggleable__content pre {\n",
       "  margin: 0.2em;\n",
       "  border-radius: 0.25em;\n",
       "  color: var(--sklearn-color-text);\n",
       "  /* unfitted */\n",
       "  background-color: var(--sklearn-color-unfitted-level-0);\n",
       "}\n",
       "\n",
       "#sk-container-id-2 div.sk-toggleable__content.fitted pre {\n",
       "  /* unfitted */\n",
       "  background-color: var(--sklearn-color-fitted-level-0);\n",
       "}\n",
       "\n",
       "#sk-container-id-2 input.sk-toggleable__control:checked~div.sk-toggleable__content {\n",
       "  /* Expand drop-down */\n",
       "  max-height: 200px;\n",
       "  max-width: 100%;\n",
       "  overflow: auto;\n",
       "}\n",
       "\n",
       "#sk-container-id-2 input.sk-toggleable__control:checked~label.sk-toggleable__label-arrow:before {\n",
       "  content: \"▾\";\n",
       "}\n",
       "\n",
       "/* Pipeline/ColumnTransformer-specific style */\n",
       "\n",
       "#sk-container-id-2 div.sk-label input.sk-toggleable__control:checked~label.sk-toggleable__label {\n",
       "  color: var(--sklearn-color-text);\n",
       "  background-color: var(--sklearn-color-unfitted-level-2);\n",
       "}\n",
       "\n",
       "#sk-container-id-2 div.sk-label.fitted input.sk-toggleable__control:checked~label.sk-toggleable__label {\n",
       "  background-color: var(--sklearn-color-fitted-level-2);\n",
       "}\n",
       "\n",
       "/* Estimator-specific style */\n",
       "\n",
       "/* Colorize estimator box */\n",
       "#sk-container-id-2 div.sk-estimator input.sk-toggleable__control:checked~label.sk-toggleable__label {\n",
       "  /* unfitted */\n",
       "  background-color: var(--sklearn-color-unfitted-level-2);\n",
       "}\n",
       "\n",
       "#sk-container-id-2 div.sk-estimator.fitted input.sk-toggleable__control:checked~label.sk-toggleable__label {\n",
       "  /* fitted */\n",
       "  background-color: var(--sklearn-color-fitted-level-2);\n",
       "}\n",
       "\n",
       "#sk-container-id-2 div.sk-label label.sk-toggleable__label,\n",
       "#sk-container-id-2 div.sk-label label {\n",
       "  /* The background is the default theme color */\n",
       "  color: var(--sklearn-color-text-on-default-background);\n",
       "}\n",
       "\n",
       "/* On hover, darken the color of the background */\n",
       "#sk-container-id-2 div.sk-label:hover label.sk-toggleable__label {\n",
       "  color: var(--sklearn-color-text);\n",
       "  background-color: var(--sklearn-color-unfitted-level-2);\n",
       "}\n",
       "\n",
       "/* Label box, darken color on hover, fitted */\n",
       "#sk-container-id-2 div.sk-label.fitted:hover label.sk-toggleable__label.fitted {\n",
       "  color: var(--sklearn-color-text);\n",
       "  background-color: var(--sklearn-color-fitted-level-2);\n",
       "}\n",
       "\n",
       "/* Estimator label */\n",
       "\n",
       "#sk-container-id-2 div.sk-label label {\n",
       "  font-family: monospace;\n",
       "  font-weight: bold;\n",
       "  display: inline-block;\n",
       "  line-height: 1.2em;\n",
       "}\n",
       "\n",
       "#sk-container-id-2 div.sk-label-container {\n",
       "  text-align: center;\n",
       "}\n",
       "\n",
       "/* Estimator-specific */\n",
       "#sk-container-id-2 div.sk-estimator {\n",
       "  font-family: monospace;\n",
       "  border: 1px dotted var(--sklearn-color-border-box);\n",
       "  border-radius: 0.25em;\n",
       "  box-sizing: border-box;\n",
       "  margin-bottom: 0.5em;\n",
       "  /* unfitted */\n",
       "  background-color: var(--sklearn-color-unfitted-level-0);\n",
       "}\n",
       "\n",
       "#sk-container-id-2 div.sk-estimator.fitted {\n",
       "  /* fitted */\n",
       "  background-color: var(--sklearn-color-fitted-level-0);\n",
       "}\n",
       "\n",
       "/* on hover */\n",
       "#sk-container-id-2 div.sk-estimator:hover {\n",
       "  /* unfitted */\n",
       "  background-color: var(--sklearn-color-unfitted-level-2);\n",
       "}\n",
       "\n",
       "#sk-container-id-2 div.sk-estimator.fitted:hover {\n",
       "  /* fitted */\n",
       "  background-color: var(--sklearn-color-fitted-level-2);\n",
       "}\n",
       "\n",
       "/* Specification for estimator info (e.g. \"i\" and \"?\") */\n",
       "\n",
       "/* Common style for \"i\" and \"?\" */\n",
       "\n",
       ".sk-estimator-doc-link,\n",
       "a:link.sk-estimator-doc-link,\n",
       "a:visited.sk-estimator-doc-link {\n",
       "  float: right;\n",
       "  font-size: smaller;\n",
       "  line-height: 1em;\n",
       "  font-family: monospace;\n",
       "  background-color: var(--sklearn-color-background);\n",
       "  border-radius: 1em;\n",
       "  height: 1em;\n",
       "  width: 1em;\n",
       "  text-decoration: none !important;\n",
       "  margin-left: 1ex;\n",
       "  /* unfitted */\n",
       "  border: var(--sklearn-color-unfitted-level-1) 1pt solid;\n",
       "  color: var(--sklearn-color-unfitted-level-1);\n",
       "}\n",
       "\n",
       ".sk-estimator-doc-link.fitted,\n",
       "a:link.sk-estimator-doc-link.fitted,\n",
       "a:visited.sk-estimator-doc-link.fitted {\n",
       "  /* fitted */\n",
       "  border: var(--sklearn-color-fitted-level-1) 1pt solid;\n",
       "  color: var(--sklearn-color-fitted-level-1);\n",
       "}\n",
       "\n",
       "/* On hover */\n",
       "div.sk-estimator:hover .sk-estimator-doc-link:hover,\n",
       ".sk-estimator-doc-link:hover,\n",
       "div.sk-label-container:hover .sk-estimator-doc-link:hover,\n",
       ".sk-estimator-doc-link:hover {\n",
       "  /* unfitted */\n",
       "  background-color: var(--sklearn-color-unfitted-level-3);\n",
       "  color: var(--sklearn-color-background);\n",
       "  text-decoration: none;\n",
       "}\n",
       "\n",
       "div.sk-estimator.fitted:hover .sk-estimator-doc-link.fitted:hover,\n",
       ".sk-estimator-doc-link.fitted:hover,\n",
       "div.sk-label-container:hover .sk-estimator-doc-link.fitted:hover,\n",
       ".sk-estimator-doc-link.fitted:hover {\n",
       "  /* fitted */\n",
       "  background-color: var(--sklearn-color-fitted-level-3);\n",
       "  color: var(--sklearn-color-background);\n",
       "  text-decoration: none;\n",
       "}\n",
       "\n",
       "/* Span, style for the box shown on hovering the info icon */\n",
       ".sk-estimator-doc-link span {\n",
       "  display: none;\n",
       "  z-index: 9999;\n",
       "  position: relative;\n",
       "  font-weight: normal;\n",
       "  right: .2ex;\n",
       "  padding: .5ex;\n",
       "  margin: .5ex;\n",
       "  width: min-content;\n",
       "  min-width: 20ex;\n",
       "  max-width: 50ex;\n",
       "  color: var(--sklearn-color-text);\n",
       "  box-shadow: 2pt 2pt 4pt #999;\n",
       "  /* unfitted */\n",
       "  background: var(--sklearn-color-unfitted-level-0);\n",
       "  border: .5pt solid var(--sklearn-color-unfitted-level-3);\n",
       "}\n",
       "\n",
       ".sk-estimator-doc-link.fitted span {\n",
       "  /* fitted */\n",
       "  background: var(--sklearn-color-fitted-level-0);\n",
       "  border: var(--sklearn-color-fitted-level-3);\n",
       "}\n",
       "\n",
       ".sk-estimator-doc-link:hover span {\n",
       "  display: block;\n",
       "}\n",
       "\n",
       "/* \"?\"-specific style due to the `<a>` HTML tag */\n",
       "\n",
       "#sk-container-id-2 a.estimator_doc_link {\n",
       "  float: right;\n",
       "  font-size: 1rem;\n",
       "  line-height: 1em;\n",
       "  font-family: monospace;\n",
       "  background-color: var(--sklearn-color-background);\n",
       "  border-radius: 1rem;\n",
       "  height: 1rem;\n",
       "  width: 1rem;\n",
       "  text-decoration: none;\n",
       "  /* unfitted */\n",
       "  color: var(--sklearn-color-unfitted-level-1);\n",
       "  border: var(--sklearn-color-unfitted-level-1) 1pt solid;\n",
       "}\n",
       "\n",
       "#sk-container-id-2 a.estimator_doc_link.fitted {\n",
       "  /* fitted */\n",
       "  border: var(--sklearn-color-fitted-level-1) 1pt solid;\n",
       "  color: var(--sklearn-color-fitted-level-1);\n",
       "}\n",
       "\n",
       "/* On hover */\n",
       "#sk-container-id-2 a.estimator_doc_link:hover {\n",
       "  /* unfitted */\n",
       "  background-color: var(--sklearn-color-unfitted-level-3);\n",
       "  color: var(--sklearn-color-background);\n",
       "  text-decoration: none;\n",
       "}\n",
       "\n",
       "#sk-container-id-2 a.estimator_doc_link.fitted:hover {\n",
       "  /* fitted */\n",
       "  background-color: var(--sklearn-color-fitted-level-3);\n",
       "}\n",
       "</style><div id=\"sk-container-id-2\" class=\"sk-top-container\"><div class=\"sk-text-repr-fallback\"><pre>Pipeline(steps=[(&#x27;tfidfvectorizer&#x27;, TfidfVectorizer()),\n",
       "                (&#x27;logisticregression&#x27;, LogisticRegression())])</pre><b>In a Jupyter environment, please rerun this cell to show the HTML representation or trust the notebook. <br />On GitHub, the HTML representation is unable to render, please try loading this page with nbviewer.org.</b></div><div class=\"sk-container\" hidden><div class=\"sk-item sk-dashed-wrapped\"><div class=\"sk-label-container\"><div class=\"sk-label fitted sk-toggleable\"><input class=\"sk-toggleable__control sk-hidden--visually\" id=\"sk-estimator-id-4\" type=\"checkbox\" ><label for=\"sk-estimator-id-4\" class=\"sk-toggleable__label fitted sk-toggleable__label-arrow fitted\">&nbsp;&nbsp;Pipeline<a class=\"sk-estimator-doc-link fitted\" rel=\"noreferrer\" target=\"_blank\" href=\"https://scikit-learn.org/1.5/modules/generated/sklearn.pipeline.Pipeline.html\">?<span>Documentation for Pipeline</span></a><span class=\"sk-estimator-doc-link fitted\">i<span>Fitted</span></span></label><div class=\"sk-toggleable__content fitted\"><pre>Pipeline(steps=[(&#x27;tfidfvectorizer&#x27;, TfidfVectorizer()),\n",
       "                (&#x27;logisticregression&#x27;, LogisticRegression())])</pre></div> </div></div><div class=\"sk-serial\"><div class=\"sk-item\"><div class=\"sk-estimator fitted sk-toggleable\"><input class=\"sk-toggleable__control sk-hidden--visually\" id=\"sk-estimator-id-5\" type=\"checkbox\" ><label for=\"sk-estimator-id-5\" class=\"sk-toggleable__label fitted sk-toggleable__label-arrow fitted\">&nbsp;TfidfVectorizer<a class=\"sk-estimator-doc-link fitted\" rel=\"noreferrer\" target=\"_blank\" href=\"https://scikit-learn.org/1.5/modules/generated/sklearn.feature_extraction.text.TfidfVectorizer.html\">?<span>Documentation for TfidfVectorizer</span></a></label><div class=\"sk-toggleable__content fitted\"><pre>TfidfVectorizer()</pre></div> </div></div><div class=\"sk-item\"><div class=\"sk-estimator fitted sk-toggleable\"><input class=\"sk-toggleable__control sk-hidden--visually\" id=\"sk-estimator-id-6\" type=\"checkbox\" ><label for=\"sk-estimator-id-6\" class=\"sk-toggleable__label fitted sk-toggleable__label-arrow fitted\">&nbsp;LogisticRegression<a class=\"sk-estimator-doc-link fitted\" rel=\"noreferrer\" target=\"_blank\" href=\"https://scikit-learn.org/1.5/modules/generated/sklearn.linear_model.LogisticRegression.html\">?<span>Documentation for LogisticRegression</span></a></label><div class=\"sk-toggleable__content fitted\"><pre>LogisticRegression()</pre></div> </div></div></div></div></div></div>"
      ]
     },
     "execution_count": 101,
     "metadata": {},
     "output_type": "execute_result"
    }
   ],
   "execution_count": 101
  },
  {
   "metadata": {
    "ExecuteTime": {
     "end_time": "2024-12-20T09:33:58.050203Z",
     "start_time": "2024-12-20T09:33:57.849084Z"
    }
   },
   "cell_type": "code",
   "source": "predict = model.predict(X_test)",
   "outputs": [],
   "execution_count": 102
  },
  {
   "metadata": {
    "ExecuteTime": {
     "end_time": "2024-12-20T09:33:59.744234Z",
     "start_time": "2024-12-20T09:33:59.597165Z"
    }
   },
   "cell_type": "code",
   "source": "predict",
   "outputs": [
    {
     "data": {
      "text/plain": [
       "array([1, 1, 1, 1, 1, 1, 1, 1, 1, 1, 1, 1, 1, 1, 1, 1, 1, 1, 1, 1])"
      ]
     },
     "execution_count": 103,
     "metadata": {},
     "output_type": "execute_result"
    }
   ],
   "execution_count": 103
  },
  {
   "metadata": {
    "ExecuteTime": {
     "end_time": "2024-12-20T09:34:01.746448Z",
     "start_time": "2024-12-20T09:34:01.451577Z"
    }
   },
   "cell_type": "code",
   "source": "classification_report_ez(y_test,predict, show_visualization=True)",
   "outputs": [
    {
     "name": "stdout",
     "output_type": "stream",
     "text": [
      "              precision    recall  f1-score   support\n",
      "\n",
      "           0       0.00      0.00      0.00         8\n",
      "           1       0.60      1.00      0.75        12\n",
      "\n",
      "    accuracy                           0.60        20\n",
      "   macro avg       0.30      0.50      0.38        20\n",
      "weighted avg       0.36      0.60      0.45        20\n",
      "\n"
     ]
    },
    {
     "name": "stderr",
     "output_type": "stream",
     "text": [
      "D:\\Fax\\LAIP\\.venv\\Lib\\site-packages\\sklearn\\metrics\\_classification.py:1531: UndefinedMetricWarning: Precision is ill-defined and being set to 0.0 in labels with no predicted samples. Use `zero_division` parameter to control this behavior.\n",
      "  _warn_prf(average, modifier, f\"{metric.capitalize()} is\", len(result))\n",
      "D:\\Fax\\LAIP\\.venv\\Lib\\site-packages\\sklearn\\metrics\\_classification.py:1531: UndefinedMetricWarning: Precision is ill-defined and being set to 0.0 in labels with no predicted samples. Use `zero_division` parameter to control this behavior.\n",
      "  _warn_prf(average, modifier, f\"{metric.capitalize()} is\", len(result))\n",
      "D:\\Fax\\LAIP\\.venv\\Lib\\site-packages\\sklearn\\metrics\\_classification.py:1531: UndefinedMetricWarning: Precision is ill-defined and being set to 0.0 in labels with no predicted samples. Use `zero_division` parameter to control this behavior.\n",
      "  _warn_prf(average, modifier, f\"{metric.capitalize()} is\", len(result))\n"
     ]
    },
    {
     "data": {
      "text/plain": [
       "<Figure size 640x480 with 1 Axes>"
      ],
      "image/png": "[encoded data removed]"
     },
     "metadata": {},
     "output_type": "display_data"
    }
   ],
   "execution_count": 104
  },
  {
   "metadata": {
    "ExecuteTime": {
     "end_time": "2024-12-20T09:39:19.639092Z",
     "start_time": "2024-12-20T09:39:19.496815Z"
    }
   },
   "cell_type": "code",
   "source": [
    "coeff_df = pd.DataFrame({\n",
    "    \"terms\": vectorizer.get_feature_names_out(),\n",
    "    \"coeffs\": regression.coef_[0],\n",
    "})"
   ],
   "outputs": [],
   "execution_count": 114
  },
  {
   "metadata": {
    "ExecuteTime": {
     "end_time": "2024-12-20T09:39:38.220757Z",
     "start_time": "2024-12-20T09:39:38.069999Z"
    }
   },
   "cell_type": "code",
   "source": "coeff_df.nlargest(10, \"coeffs\")",
   "outputs": [
    {
     "data": {
      "text/plain": [
       "      terms    coeffs\n",
       "925     the  0.463513\n",
       "924    that  0.337488\n",
       "627     oak  0.328096\n",
       "83       at  0.313767\n",
       "419   green  0.308885\n",
       "1012   will  0.306484\n",
       "1025  years  0.299121\n",
       "253    dark  0.288017\n",
       "120   black  0.273937\n",
       "202   clean  0.267050"
      ],
      "text/html": [
       "<div>\n",
       "<style scoped>\n",
       "    .dataframe tbody tr th:only-of-type {\n",
       "        vertical-align: middle;\n",
       "    }\n",
       "\n",
       "    .dataframe tbody tr th {\n",
       "        vertical-align: top;\n",
       "    }\n",
       "\n",
       "    .dataframe thead th {\n",
       "        text-align: right;\n",
       "    }\n",
       "</style>\n",
       "<table border=\"1\" class=\"dataframe\">\n",
       "  <thead>\n",
       "    <tr style=\"text-align: right;\">\n",
       "      <th></th>\n",
       "      <th>terms</th>\n",
       "      <th>coeffs</th>\n",
       "    </tr>\n",
       "  </thead>\n",
       "  <tbody>\n",
       "    <tr>\n",
       "      <th>925</th>\n",
       "      <td>the</td>\n",
       "      <td>0.463513</td>\n",
       "    </tr>\n",
       "    <tr>\n",
       "      <th>924</th>\n",
       "      <td>that</td>\n",
       "      <td>0.337488</td>\n",
       "    </tr>\n",
       "    <tr>\n",
       "      <th>627</th>\n",
       "      <td>oak</td>\n",
       "      <td>0.328096</td>\n",
       "    </tr>\n",
       "    <tr>\n",
       "      <th>83</th>\n",
       "      <td>at</td>\n",
       "      <td>0.313767</td>\n",
       "    </tr>\n",
       "    <tr>\n",
       "      <th>419</th>\n",
       "      <td>green</td>\n",
       "      <td>0.308885</td>\n",
       "    </tr>\n",
       "    <tr>\n",
       "      <th>1012</th>\n",
       "      <td>will</td>\n",
       "      <td>0.306484</td>\n",
       "    </tr>\n",
       "    <tr>\n",
       "      <th>1025</th>\n",
       "      <td>years</td>\n",
       "      <td>0.299121</td>\n",
       "    </tr>\n",
       "    <tr>\n",
       "      <th>253</th>\n",
       "      <td>dark</td>\n",
       "      <td>0.288017</td>\n",
       "    </tr>\n",
       "    <tr>\n",
       "      <th>120</th>\n",
       "      <td>black</td>\n",
       "      <td>0.273937</td>\n",
       "    </tr>\n",
       "    <tr>\n",
       "      <th>202</th>\n",
       "      <td>clean</td>\n",
       "      <td>0.267050</td>\n",
       "    </tr>\n",
       "  </tbody>\n",
       "</table>\n",
       "</div>"
      ]
     },
     "execution_count": 116,
     "metadata": {},
     "output_type": "execute_result"
    }
   ],
   "execution_count": 116
  }
 ]
}
